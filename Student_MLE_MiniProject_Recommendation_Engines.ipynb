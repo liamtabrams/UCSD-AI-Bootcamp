{
  "nbformat": 4,
  "nbformat_minor": 0,
  "metadata": {
    "colab": {
      "provenance": []
    },
    "kernelspec": {
      "name": "python3",
      "display_name": "Python 3"
    },
    "language_info": {
      "name": "python"
    }
  },
  "cells": [
    {
      "cell_type": "markdown",
      "source": [
        "# Mini Project: Recommendation Engines\n",
        "\n",
        "Recommendation engines are algorithms designed to provide personalized suggestions or recommendations to users. These systems analyze user behavior, preferences, and interactions with items (products, movies, music, articles, etc.) to predict and offer items that users are likely to be interested in. Recommendation engines play a crucial role in enhancing user experience, driving engagement, and increasing conversion rates in various applications, including e-commerce, entertainment, content platforms, and more.\n",
        "\n",
        "There are generally two approaches taken in collaborative filtering and content-based recommendation engines:\n",
        "\n",
        "**1. Collaborative Filtering:**\n",
        "Collaborative Filtering is a popular approach to building recommendation systems that leverages the collective behavior of users to make personalized recommendations. It is based on the idea that users who have agreed in the past will likely agree in the future. There are two main types of collaborative filtering:\n",
        "\n",
        "- **User-based Collaborative Filtering:** This method finds users similar to the target user based on their past interactions (e.g., ratings or purchases). It then recommends items that similar users have liked but the target user has not interacted with yet.\n",
        "\n",
        "- **Item-based Collaborative Filtering:** In this approach, the system identifies similar items based on user interactions. It recommends items that are similar to the ones the target user has already liked or interacted with.\n",
        "\n",
        "Collaborative filtering does not require any explicit information about items but relies on the similarity between users or items. It is effective in capturing complex patterns and can provide serendipitous recommendations. However, it suffers from the cold-start problem (i.e., difficulty in recommending to new users or items with no interactions) and scalability challenges in large datasets.\n",
        "\n",
        "**2. Content-Based Recommendation:**\n",
        "Content-based recommendation is an alternative approach to building recommendation systems that focuses on the attributes or features of items and users. It leverages the characteristics of items to make recommendations. The key steps involved in content-based recommendation are:\n",
        "\n",
        "- **Feature Extraction:** For each item, relevant features are extracted. For movies, these features could be genre, director, actors, and plot summary.\n",
        "\n",
        "- **User Profile:** A user profile is created based on the items they have interacted with in the past. The user profile contains the weighted importance of features based on their interactions.\n",
        "\n",
        "- **Similarity Calculation:** The similarity between items or between items and the user profile is calculated using similarity metrics like cosine similarity or Euclidean distance.\n",
        "\n",
        "- **Recommendation:** Items that are most similar to the user profile are recommended to the user.\n",
        "\n",
        "Content-based recommendation systems are less affected by the cold-start problem as they can still recommend items based on their features. They are also more interpretable as they rely on item attributes. However, they may miss out on providing serendipitous recommendations and can be limited by the quality of feature extraction and user profiles.\n",
        "\n",
        "**Choosing Between Collaborative Filtering and Content-Based:**\n",
        "Both collaborative filtering and content-based approaches have their strengths and weaknesses. The choice between them depends on the specific requirements of the recommendation system, the type of data available, and the user base. Hybrid approaches that combine collaborative filtering and content-based techniques are also common, aiming to leverage the strengths of both methods and mitigate their weaknesses."
      ],
      "metadata": {
        "id": "fyXucUekO19i"
      }
    },
    {
      "cell_type": "markdown",
      "source": [
        "In this mini-project, you'll be building both content based and collaborative filtering engines for the [MovieLens 25M dataset](https://grouplens.org/datasets/movielens/25m/). The MovieLens 25M dataset is one of the most widely used and popular datasets for building and evaluating recommendation systems. It is provided by the GroupLens Research project, which collects and studies datasets related to movie ratings and recommendations. The MovieLens 25M dataset contains movie ratings and other related information contributed by users of the MovieLens website.\n",
        "\n",
        "**Dataset Details:**\n",
        "- **Size:** The dataset contains approximately 25 million movie ratings.\n",
        "- **Users:** It includes ratings from over 162,000 users.\n",
        "- **Movies:** The dataset consists of ratings for more than 62,000 movies.\n",
        "- **Ratings:** The ratings are provided on a scale of 1 to 5, where 1 is the lowest rating and 5 is the highest.\n",
        "- **Timestamps:** Each rating is associated with a timestamp, indicating when the rating was given.\n",
        "\n",
        "**Data Files:**\n",
        "The dataset is usually split into three CSV files:\n",
        "\n",
        "1. **movies.csv:** Contains information about movies, including the movie ID, title, genres, and release year.\n",
        "   - Columns: movieId, title, genres\n",
        "\n",
        "2. **ratings.csv:** Contains movie ratings provided by users, including the user ID, movie ID, rating, and timestamp.\n",
        "   - Columns: userId, movieId, rating, timestamp\n",
        "\n",
        "3. **tags.csv:** Contains user-generated tags for movies, including the user ID, movie ID, tag, and timestamp.\n",
        "   - Columns: userId, movieId, tag, timestamp"
      ],
      "metadata": {
        "id": "TYuE9O6I2uRY"
      }
    },
    {
      "cell_type": "markdown",
      "source": [
        "First, import all the libraries you'll need."
      ],
      "metadata": {
        "id": "DN0qzP-cRlMo"
      }
    },
    {
      "cell_type": "code",
      "execution_count": 2,
      "metadata": {
        "id": "kLWR1DfQPakn"
      },
      "outputs": [],
      "source": [
        "import zipfile\n",
        "import numpy as np\n",
        "import pandas as pd\n",
        "from urllib.request import urlretrieve\n",
        "from sklearn.metrics.pairwise import cosine_similarity"
      ]
    },
    {
      "cell_type": "markdown",
      "source": [
        "Next, download the relevant components of the MoveLens dataset. Note, these instructions are roughly based on the colab [here](https://colab.research.google.com/github/google/eng-edu/blob/main/ml/recommendation-systems/recommendation-systems.ipynb?utm_source=ss-recommendation-systems&utm_campaign=colab-external&utm_medium=referral&utm_content=recommendation-systems#scrollTo=O3bcgduFo4s6)."
      ],
      "metadata": {
        "id": "iaG6vAKyREej"
      }
    },
    {
      "cell_type": "code",
      "source": [
        "print(\"Downloading movielens data...\")\n",
        "\n",
        "urlretrieve('http://files.grouplens.org/datasets/movielens/ml-100k.zip', 'movielens.zip')\n",
        "zip_ref = zipfile.ZipFile('movielens.zip', 'r')\n",
        "zip_ref.extractall()\n",
        "print(\"Done. Dataset contains:\")\n",
        "print(zip_ref.read('ml-100k/u.info'))\n",
        "\n",
        "ratings_cols = ['user_id', 'movie_id', 'rating', 'unix_timestamp']\n",
        "ratings = pd.read_csv(\n",
        "    'ml-100k/u.data', sep='\\t', names=ratings_cols, encoding='latin-1')\n",
        "\n",
        "# The movies file contains a binary feature for each genre.\n",
        "genre_cols = [\n",
        "    \"genre_unknown\", \"Action\", \"Adventure\", \"Animation\", \"Children\", \"Comedy\",\n",
        "    \"Crime\", \"Documentary\", \"Drama\", \"Fantasy\", \"Film-Noir\", \"Horror\",\n",
        "    \"Musical\", \"Mystery\", \"Romance\", \"Sci-Fi\", \"Thriller\", \"War\", \"Western\"\n",
        "]\n",
        "movies_cols = [\n",
        "    'movie_id', 'title', 'release_date', \"video_release_date\", \"imdb_url\"\n",
        "] + genre_cols\n",
        "movies = pd.read_csv(\n",
        "    'ml-100k/u.item', sep='|', names=movies_cols, encoding='latin-1')"
      ],
      "metadata": {
        "id": "-wCvx2ukPm-3",
        "colab": {
          "base_uri": "https://localhost:8080/"
        },
        "outputId": "b33f8c90-6bb8-4f3e-babd-01c0d2035f15"
      },
      "execution_count": 3,
      "outputs": [
        {
          "output_type": "stream",
          "name": "stdout",
          "text": [
            "Downloading movielens data...\n",
            "Done. Dataset contains:\n",
            "b'943 users\\n1682 items\\n100000 ratings\\n'\n"
          ]
        }
      ]
    },
    {
      "cell_type": "markdown",
      "source": [
        "Before doing any kind of machine learning, it's always good to familiarize yourself with the datasets you'lll be working with.\n",
        "\n",
        "Here are your tasks:\n",
        "\n",
        "1. Spend some time familiarizing yourself with both the `movies` and `ratings` dataframes. How many unique user ids are present? How many unique movies are there?\n",
        "2. Create a new dataframe that merges the `movies` and `ratings` tables on 'movie_id'. Only keep the 'user_id', 'title', 'rating' fields in this new dataframe."
      ],
      "metadata": {
        "id": "pLAMVhnbR-Cy"
      }
    },
    {
      "cell_type": "code",
      "source": [
        "# Spend some time familiarizing yourself with both the movies and ratings\n",
        "# dataframes. How many unique user ids are present? How many unique movies\n",
        "# are there?\n",
        "print(ratings.head())\n",
        "print(ratings['user_id'].value_counts())\n",
        "print(movies.head())\n",
        "print(movies['movie_id'].value_counts())"
      ],
      "metadata": {
        "id": "vp7Tx7H_P5f2",
        "colab": {
          "base_uri": "https://localhost:8080/"
        },
        "outputId": "294c0561-4df4-42f9-c8de-94a30be06142"
      },
      "execution_count": 4,
      "outputs": [
        {
          "output_type": "stream",
          "name": "stdout",
          "text": [
            "   user_id  movie_id  rating  unix_timestamp\n",
            "0      196       242       3       881250949\n",
            "1      186       302       3       891717742\n",
            "2       22       377       1       878887116\n",
            "3      244        51       2       880606923\n",
            "4      166       346       1       886397596\n",
            "405    737\n",
            "655    685\n",
            "13     636\n",
            "450    540\n",
            "276    518\n",
            "      ... \n",
            "441     20\n",
            "36      20\n",
            "812     20\n",
            "895     20\n",
            "93      20\n",
            "Name: user_id, Length: 943, dtype: int64\n",
            "   movie_id              title release_date  video_release_date  \\\n",
            "0         1   Toy Story (1995)  01-Jan-1995                 NaN   \n",
            "1         2   GoldenEye (1995)  01-Jan-1995                 NaN   \n",
            "2         3  Four Rooms (1995)  01-Jan-1995                 NaN   \n",
            "3         4  Get Shorty (1995)  01-Jan-1995                 NaN   \n",
            "4         5     Copycat (1995)  01-Jan-1995                 NaN   \n",
            "\n",
            "                                            imdb_url  genre_unknown  Action  \\\n",
            "0  http://us.imdb.com/M/title-exact?Toy%20Story%2...              0       0   \n",
            "1  http://us.imdb.com/M/title-exact?GoldenEye%20(...              0       1   \n",
            "2  http://us.imdb.com/M/title-exact?Four%20Rooms%...              0       0   \n",
            "3  http://us.imdb.com/M/title-exact?Get%20Shorty%...              0       1   \n",
            "4  http://us.imdb.com/M/title-exact?Copycat%20(1995)              0       0   \n",
            "\n",
            "   Adventure  Animation  Children  ...  Fantasy  Film-Noir  Horror  Musical  \\\n",
            "0          0          1         1  ...        0          0       0        0   \n",
            "1          1          0         0  ...        0          0       0        0   \n",
            "2          0          0         0  ...        0          0       0        0   \n",
            "3          0          0         0  ...        0          0       0        0   \n",
            "4          0          0         0  ...        0          0       0        0   \n",
            "\n",
            "   Mystery  Romance  Sci-Fi  Thriller  War  Western  \n",
            "0        0        0       0         0    0        0  \n",
            "1        0        0       0         1    0        0  \n",
            "2        0        0       0         1    0        0  \n",
            "3        0        0       0         0    0        0  \n",
            "4        0        0       0         1    0        0  \n",
            "\n",
            "[5 rows x 24 columns]\n",
            "1       1\n",
            "1105    1\n",
            "1129    1\n",
            "1128    1\n",
            "1127    1\n",
            "       ..\n",
            "558     1\n",
            "557     1\n",
            "556     1\n",
            "555     1\n",
            "1682    1\n",
            "Name: movie_id, Length: 1682, dtype: int64\n"
          ]
        }
      ]
    },
    {
      "cell_type": "markdown",
      "source": [
        "It appears that there are 943 unique users in the ratings dataframe and 1682 unique movies in the movies dataframe."
      ],
      "metadata": {
        "id": "24m3Zcmy5ccR"
      }
    },
    {
      "cell_type": "code",
      "source": [
        "# Merge movies and ratings dataframes\n",
        "merged_df = pd.merge(ratings, movies, on='movie_id')[['user_id', 'title', 'rating']]"
      ],
      "metadata": {
        "id": "f6MrymMJRMjB"
      },
      "execution_count": 5,
      "outputs": []
    },
    {
      "cell_type": "markdown",
      "source": [
        "As mentioned in the introduction, content-Based Filtering is a recommendation engine approach that focuses on the attributes or features of items (products, movies, music, articles, etc.) and leverages these features to make personalized recommendations. The underlying idea is to match the characteristics of items with the preferences of users to suggest items that align with their interests. Content-based filtering is particularly useful when explicit user-item interactions (e.g., ratings or purchases) are sparse or unavailable.\n",
        "\n",
        "**Key Steps in Content-Based Filtering:**\n",
        "\n",
        "1. **Feature Extraction:**\n",
        "   - For each item, relevant features are extracted. These features are typically descriptive attributes that can be represented numerically, such as genre, director, actors, author, publication date, and keywords.\n",
        "   - In the case of text-based items, natural language processing techniques may be used to extract features like TF-IDF (Term Frequency-Inverse Document Frequency) scores.\n",
        "\n",
        "2. **User Profile Creation:**\n",
        "   - A user profile is created based on the items they have interacted with in the past. The user profile contains the weighted importance of features based on their interactions.\n",
        "   - For example, if a user has watched several action movies, the action genre feature would receive a higher weight in their profile.\n",
        "\n",
        "3. **Similarity Calculation:**\n",
        "   - The similarity between items or between items and the user profile is calculated using similarity metrics like cosine similarity, Euclidean distance, or Pearson correlation.\n",
        "   - Cosine similarity is commonly used as it measures the cosine of the angle between two vectors, which represents their similarity.\n",
        "\n",
        "4. **Recommendation:**\n",
        "   - Items that are most similar to the user profile are recommended to the user. These are items whose features have the highest similarity scores with the user profile.\n",
        "   - The recommended items are presented as a list sorted by their similarity scores.\n",
        "\n",
        "**Advantages of Content-Based Filtering:**\n",
        "1. **No Cold-Start Problem:** Content-based filtering can make recommendations even for new users with no historical interactions because it relies on item features rather than user history.\n",
        "\n",
        "2. **User Independence:** The recommendations are based solely on the features of items and do not require knowledge of other users' preferences or behavior.\n",
        "\n",
        "3. **Transparency:** Content-based recommendations are interpretable, as they depend on the features of items, making it easier for users to understand why specific items are recommended.\n",
        "\n",
        "4. **Serendipity:** Content-based filtering can recommend items with characteristics not seen before by the user, leading to serendipitous discoveries.\n",
        "\n",
        "5. **Diversity in Recommendations:** The method can offer diverse recommendations since it suggests items with different feature combinations.\n",
        "\n",
        "**Limitations of Content-Based Filtering:**\n",
        "1. **Limited Discovery:** Content-based filtering may struggle to recommend items outside the scope of users' historical interactions or interests.\n",
        "\n",
        "2. **Over-Specialization:** Users may receive recommendations that are too similar to their previous choices, leading to a lack of exposure to new item categories.\n",
        "\n",
        "3. **Dependency on Feature Quality:** The quality and relevance of item features significantly influence the quality of recommendations.\n",
        "\n",
        "4. **Limited for Cold Items:** Content-based filtering can struggle to recommend new items with limited feature information."
      ],
      "metadata": {
        "id": "_U44W0TMT3qf"
      }
    },
    {
      "cell_type": "markdown",
      "source": [
        "Here is your task:\n",
        "\n",
        "1. Write a function that takes in a user id and the dataframe you created before that contains 'user_id', 'title', and 'rating'. The function should return content-based recommendations for this user. Here are steps you can take:\n",
        "\n",
        "  A. Get the user's rated movies\n",
        "\n",
        "  B. Create a TF-IDF matrix using movie genres. Note, this can be extracted from the `movies` dataframe.\n",
        "\n",
        "  C. Compute the cosine similarity between movie genres. Use the [cosine_similarity](https://scikit-learn.org/stable/modules/generated/sklearn.metrics.pairwise.cosine_similarity.html) function.\n",
        "\n",
        "  D. Get the indices of similar movies to those rated by the user based on cosine similarity. Keep only the top 5.\n",
        "\n",
        "  E. Remove duplicates and movies already rated by the user."
      ],
      "metadata": {
        "id": "sbJGD7j7Ui-8"
      }
    },
    {
      "cell_type": "code",
      "source": [
        "'''before our content based recommendation function will work, we need\n",
        "to make a new column in the movies df that has a text list of genres'''\n",
        "\n",
        "'''Create a new column 'genres' containing a list of genre column names with value 1, do not include\n",
        "first 5 columns which are not genre related'''\n",
        "genre_columns = movies.columns[5:]\n",
        "movie_genre_info = movies[genre_columns]\n",
        "movies['genres'] = movie_genre_info.apply(lambda row: str(movie_genre_info.columns[row == 1].tolist()), axis=1)\n",
        "print(movies['genres'].head())"
      ],
      "metadata": {
        "colab": {
          "base_uri": "https://localhost:8080/"
        },
        "id": "tCKiG5phF3UH",
        "outputId": "f3172bc7-e78a-41c2-9799-74d95387727d"
      },
      "execution_count": 17,
      "outputs": [
        {
          "output_type": "stream",
          "name": "stdout",
          "text": [
            "0    ['Animation', 'Children', 'Comedy']\n",
            "1    ['Action', 'Adventure', 'Thriller']\n",
            "2                           ['Thriller']\n",
            "3          ['Action', 'Comedy', 'Drama']\n",
            "4         ['Crime', 'Drama', 'Thriller']\n",
            "Name: genres, dtype: object\n"
          ]
        }
      ]
    },
    {
      "cell_type": "code",
      "source": [
        "from sklearn.feature_extraction.text import TfidfVectorizer\n",
        "# Content-Based Filtering using Movie Genres\n",
        "def content_based_recommendation(user_id, df):\n",
        "  # Get the user's rated movies\n",
        "  rated_movies = df[merged_df['user_id'] == user_id]['title'].tolist()\n",
        "  # Create a TF-IDF matrix using movie genres\n",
        "  tfidf_vectorizer = TfidfVectorizer(stop_words='english')\n",
        "\n",
        "  tfidf_matrix = tfidf_vectorizer.fit_transform(movies['genres'].fillna(''))\n",
        "  # Compute the cosine similarity between movie genres\n",
        "  cosine_similarities = cosine_similarity(tfidf_matrix, tfidf_matrix)\n",
        "  # Get the indices of the similar movies based on cosine similarity\n",
        "  similar_movies_indices = []\n",
        "  for movie_title in rated_movies:\n",
        "      movie_index = movies.index[movies['title'] == movie_title].tolist()[0]\n",
        "      similar_movies_indices += cosine_similarities[movie_index].argsort()[-6:-1].tolist()\n",
        "      #print(similar_movies_indices)\n",
        "  # Remove duplicates and movies already rated by the user\n",
        "  recommendations = set(similar_movies_indices) - set(ratings[ratings['user_id'] == user_id].index.tolist())\n",
        "  recommendations = list(recommendations)[:5]\n",
        "  return recommendations"
      ],
      "metadata": {
        "id": "JwBQSC-POTzn"
      },
      "execution_count": 47,
      "outputs": []
    },
    {
      "cell_type": "markdown",
      "source": [
        "The key idea behind collaborative filtering is that users who have agreed in the past will likely agree in the future. Instead of relying on item attributes or user profiles, collaborative filtering identifies patterns of user behavior and item preferences from the interactions present in the data.\n",
        "\n",
        "**Types of Collaborative Filtering:**\n",
        "There are two main types of collaborative filtering:\n",
        "\n",
        "**Collaborative Filtering Process:**\n",
        "The collaborative filtering process typically involves the following steps:\n",
        "\n",
        "1. **Data Collection:**\n",
        "   - Gather data on user-item interactions, such as movie ratings, product purchases, or article clicks.\n",
        "\n",
        "2. **User-Item Matrix:**\n",
        "   - Organize the data into a user-item matrix, where rows represent users, columns represent items, and the entries contain the users' interactions (e.g., ratings).\n",
        "\n",
        "3. **Similarity Calculation:**\n",
        "   - Calculate the similarity between users or items using similarity metrics such as cosine similarity, Pearson correlation, or Jaccard similarity.\n",
        "   - For user-based collaborative filtering, user similarities are calculated, and for item-based collaborative filtering, item similarities are calculated.\n",
        "\n",
        "4. **Neighborhood Selection:**\n",
        "   - For each user or item, select the most similar users or items as the neighborhood.\n",
        "   - The size of the neighborhood (the number of similar users or items to consider) is an important parameter to control the system's behavior.\n",
        "\n",
        "5. **Prediction Generation:**\n",
        "   - Predict the ratings for items that the target user has not yet interacted with by combining the ratings of neighboring users or items.\n",
        "\n",
        "6. **Recommendation Generation:**\n",
        "   - Recommend items with the highest predicted ratings to the target user.\n",
        "\n",
        "**Advantages of Collaborative Filtering using User-Item Interactions:**\n",
        "- Collaborative filtering is based solely on user interactions and does not require knowledge of item attributes, making it useful for cases where item data is sparse or unavailable.\n",
        "- It can provide serendipitous recommendations, suggesting items that users may not have discovered on their own.\n",
        "- Collaborative filtering can be applied in various domains, including e-commerce, music, movie, and content recommendations.\n",
        "\n",
        "**Limitations of Collaborative Filtering:**\n",
        "- The cold-start problem: Collaborative filtering struggles to recommend to new users or items with no or limited interaction history.\n",
        "- It may suffer from sparsity when data is limited or when users have only interacted with a small subset of items.\n",
        "- Scalability issues can arise with large datasets and an increasing number of users or items."
      ],
      "metadata": {
        "id": "2NNt3gHLYDxU"
      }
    },
    {
      "cell_type": "markdown",
      "source": [
        "Here is your task:\n",
        "\n",
        "1. Write a function that takes in a user id and the dataframe you created before that contains 'user_id', 'title', and 'rating'. The function should return collaborative filtering recommendations for this user based on a user-item interaction matrix. Here are steps you can take:\n",
        "\n",
        "  A. Create the user-item matrix using Pandas' [pivot_table](https://pandas.pydata.org/docs/reference/api/pandas.pivot_table.html).\n",
        "\n",
        "  B. Fill missing values with zeros in this matrix.\n",
        "\n",
        "  C. Calculate user-user similarity matrix using cosine similarity.\n",
        "\n",
        "  D. Get the array of similarity scores of the target user with all other users from the similarity matrix.\n",
        "\n",
        "  E. Extract, say the the top 5 most similar users (excluding the target user).\n",
        "\n",
        "  F. Generate movie recommendations based on the most similar users.\n",
        "\n",
        "  G. Remove duplicate movies recommendations."
      ],
      "metadata": {
        "id": "ks4mWyCaYVNY"
      }
    },
    {
      "cell_type": "code",
      "source": [
        "# Collaborative Filtering using User-Item Interactions\n",
        "def collaborative_filtering_recommendation(user_id, df):\n",
        "  # Create the user-item matrix\n",
        "  user_item_matrix = pd.pivot_table(df, values='rating', index='user_id', columns='title', fill_value=0)\n",
        "  # Fill missing values with 0 (indicating no rating)\n",
        "  user_item_matrix_filled = user_item_matrix.fillna(0)\n",
        "  # Calculate user-user similarity matrix using cosine similarity\n",
        "  user_similarity_matrix = cosine_similarity(user_item_matrix_filled)\n",
        "  # Get the similarity scores of the target user with all other users\n",
        "  target_user_similarity_scores = user_similarity_matrix[user_id - 1]\n",
        "  # Find the top N most similar users (excluding the target user)\n",
        "  similar_users_indices = target_user_similarity_scores.argsort()[:-6:-1]\n",
        "  # Generate movie recommendations based on the most similar users\n",
        "  recommendations = []\n",
        "  # what we will do is add the top rated movie from each user to the list of recommendations\n",
        "  for user_index in similar_users_indices:\n",
        "      rated_movies_by_similar_user = user_item_matrix_filled.iloc[user_index]\n",
        "      top_movies = rated_movies_by_similar_user[rated_movies_by_similar_user == rated_movies_by_similar_user.max()].index.tolist()\n",
        "      recommendations.extend(top_movies)\n",
        "  from collections import Counter\n",
        "  # Use Counter to get top 5 most frequently occurring in list recommendations\n",
        "  counter = Counter(recommendations)\n",
        "  # Get the top 5 most common values\n",
        "  top_values = [value for value, count in counter.most_common(5)]\n",
        "\n",
        "\n",
        "  return top_values"
      ],
      "metadata": {
        "id": "BqZPgKRDWf-c"
      },
      "execution_count": 73,
      "outputs": []
    },
    {
      "cell_type": "markdown",
      "source": [
        "Now, test your recommendations engines! Select a few user ids and generate recommendations using both functions you've written. Are the recommendations similar? Do the recommendations make sense?"
      ],
      "metadata": {
        "id": "-Jj883VAZRNe"
      }
    },
    {
      "cell_type": "code",
      "source": [
        "# Test the recommendation engines\n",
        "\n",
        "# first look at what test user user_id = 5 likes\n",
        "filtered_df = merged_df[merged_df['user_id'] == 5][merged_df['rating'] == 5]\n",
        "for title in filtered_df['title'].tolist():\n",
        "  #print(title)\n",
        "  print(movies.columns)\n",
        "  print(movies.loc[movies['title'] == title, ['Action', 'Children', 'Drama', 'Comedy']])"
      ],
      "metadata": {
        "id": "kt9nuOTNJXz8",
        "colab": {
          "base_uri": "https://localhost:8080/"
        },
        "outputId": "6abf359d-066f-40df-a824-bf319774e1f2"
      },
      "execution_count": 57,
      "outputs": [
        {
          "output_type": "stream",
          "name": "stdout",
          "text": [
            "Index(['movie_id', 'title', 'release_date', 'video_release_date', 'imdb_url',\n",
            "       'genre_unknown', 'Action', 'Adventure', 'Animation', 'Children',\n",
            "       'Comedy', 'Crime', 'Documentary', 'Drama', 'Fantasy', 'Film-Noir',\n",
            "       'Horror', 'Musical', 'Mystery', 'Romance', 'Sci-Fi', 'Thriller', 'War',\n",
            "       'Western', 'genres'],\n",
            "      dtype='object')\n",
            "     Action  Children  Drama  Comedy\n",
            "256       1         0      0       1\n",
            "Index(['movie_id', 'title', 'release_date', 'video_release_date', 'imdb_url',\n",
            "       'genre_unknown', 'Action', 'Adventure', 'Animation', 'Children',\n",
            "       'Comedy', 'Crime', 'Documentary', 'Drama', 'Fantasy', 'Film-Noir',\n",
            "       'Horror', 'Musical', 'Mystery', 'Romance', 'Sci-Fi', 'Thriller', 'War',\n",
            "       'Western', 'genres'],\n",
            "      dtype='object')\n",
            "    Action  Children  Drama  Comedy\n",
            "99       0         0      1       0\n",
            "Index(['movie_id', 'title', 'release_date', 'video_release_date', 'imdb_url',\n",
            "       'genre_unknown', 'Action', 'Adventure', 'Animation', 'Children',\n",
            "       'Comedy', 'Crime', 'Documentary', 'Drama', 'Fantasy', 'Film-Noir',\n",
            "       'Horror', 'Musical', 'Mystery', 'Romance', 'Sci-Fi', 'Thriller', 'War',\n",
            "       'Western', 'genres'],\n",
            "      dtype='object')\n",
            "     Action  Children  Drama  Comedy\n",
            "180       1         0      0       0\n",
            "Index(['movie_id', 'title', 'release_date', 'video_release_date', 'imdb_url',\n",
            "       'genre_unknown', 'Action', 'Adventure', 'Animation', 'Children',\n",
            "       'Comedy', 'Crime', 'Documentary', 'Drama', 'Fantasy', 'Film-Noir',\n",
            "       'Horror', 'Musical', 'Mystery', 'Romance', 'Sci-Fi', 'Thriller', 'War',\n",
            "       'Western', 'genres'],\n",
            "      dtype='object')\n",
            "     Action  Children  Drama  Comedy\n",
            "381       0         0      1       1\n",
            "Index(['movie_id', 'title', 'release_date', 'video_release_date', 'imdb_url',\n",
            "       'genre_unknown', 'Action', 'Adventure', 'Animation', 'Children',\n",
            "       'Comedy', 'Crime', 'Documentary', 'Drama', 'Fantasy', 'Film-Noir',\n",
            "       'Horror', 'Musical', 'Mystery', 'Romance', 'Sci-Fi', 'Thriller', 'War',\n",
            "       'Western', 'genres'],\n",
            "      dtype='object')\n",
            "     Action  Children  Drama  Comedy\n",
            "208       0         0      1       1\n",
            "Index(['movie_id', 'title', 'release_date', 'video_release_date', 'imdb_url',\n",
            "       'genre_unknown', 'Action', 'Adventure', 'Animation', 'Children',\n",
            "       'Comedy', 'Crime', 'Documentary', 'Drama', 'Fantasy', 'Film-Noir',\n",
            "       'Horror', 'Musical', 'Mystery', 'Romance', 'Sci-Fi', 'Thriller', 'War',\n",
            "       'Western', 'genres'],\n",
            "      dtype='object')\n",
            "     Action  Children  Drama  Comedy\n",
            "173       1         0      0       0\n",
            "Index(['movie_id', 'title', 'release_date', 'video_release_date', 'imdb_url',\n",
            "       'genre_unknown', 'Action', 'Adventure', 'Animation', 'Children',\n",
            "       'Comedy', 'Crime', 'Documentary', 'Drama', 'Fantasy', 'Film-Noir',\n",
            "       'Horror', 'Musical', 'Mystery', 'Romance', 'Sci-Fi', 'Thriller', 'War',\n",
            "       'Western', 'genres'],\n",
            "      dtype='object')\n",
            "     Action  Children  Drama  Comedy\n",
            "171       1         0      1       0\n",
            "Index(['movie_id', 'title', 'release_date', 'video_release_date', 'imdb_url',\n",
            "       'genre_unknown', 'Action', 'Adventure', 'Animation', 'Children',\n",
            "       'Comedy', 'Crime', 'Documentary', 'Drama', 'Fantasy', 'Film-Noir',\n",
            "       'Horror', 'Musical', 'Mystery', 'Romance', 'Sci-Fi', 'Thriller', 'War',\n",
            "       'Western', 'genres'],\n",
            "      dtype='object')\n",
            "     Action  Children  Drama  Comedy\n",
            "407       0         0      0       1\n",
            "Index(['movie_id', 'title', 'release_date', 'video_release_date', 'imdb_url',\n",
            "       'genre_unknown', 'Action', 'Adventure', 'Animation', 'Children',\n",
            "       'Comedy', 'Crime', 'Documentary', 'Drama', 'Fantasy', 'Film-Noir',\n",
            "       'Horror', 'Musical', 'Mystery', 'Romance', 'Sci-Fi', 'Thriller', 'War',\n",
            "       'Western', 'genres'],\n",
            "      dtype='object')\n",
            "     Action  Children  Drama  Comedy\n",
            "227       1         0      0       0\n",
            "Index(['movie_id', 'title', 'release_date', 'video_release_date', 'imdb_url',\n",
            "       'genre_unknown', 'Action', 'Adventure', 'Animation', 'Children',\n",
            "       'Comedy', 'Crime', 'Documentary', 'Drama', 'Fantasy', 'Film-Noir',\n",
            "       'Horror', 'Musical', 'Mystery', 'Romance', 'Sci-Fi', 'Thriller', 'War',\n",
            "       'Western', 'genres'],\n",
            "      dtype='object')\n",
            "     Action  Children  Drama  Comedy\n",
            "108       0         0      0       1\n",
            "Index(['movie_id', 'title', 'release_date', 'video_release_date', 'imdb_url',\n",
            "       'genre_unknown', 'Action', 'Adventure', 'Animation', 'Children',\n",
            "       'Comedy', 'Crime', 'Documentary', 'Drama', 'Fantasy', 'Film-Noir',\n",
            "       'Horror', 'Musical', 'Mystery', 'Romance', 'Sci-Fi', 'Thriller', 'War',\n",
            "       'Western', 'genres'],\n",
            "      dtype='object')\n",
            "     Action  Children  Drama  Comedy\n",
            "400       0         0      0       1\n",
            "Index(['movie_id', 'title', 'release_date', 'video_release_date', 'imdb_url',\n",
            "       'genre_unknown', 'Action', 'Adventure', 'Animation', 'Children',\n",
            "       'Comedy', 'Crime', 'Documentary', 'Drama', 'Fantasy', 'Film-Noir',\n",
            "       'Horror', 'Musical', 'Mystery', 'Romance', 'Sci-Fi', 'Thriller', 'War',\n",
            "       'Western', 'genres'],\n",
            "      dtype='object')\n",
            "    Action  Children  Drama  Comedy\n",
            "88       0         0      0       0\n",
            "Index(['movie_id', 'title', 'release_date', 'video_release_date', 'imdb_url',\n",
            "       'genre_unknown', 'Action', 'Adventure', 'Animation', 'Children',\n",
            "       'Comedy', 'Crime', 'Documentary', 'Drama', 'Fantasy', 'Film-Noir',\n",
            "       'Horror', 'Musical', 'Mystery', 'Romance', 'Sci-Fi', 'Thriller', 'War',\n",
            "       'Western', 'genres'],\n",
            "      dtype='object')\n",
            "     Action  Children  Drama  Comedy\n",
            "152       0         0      0       1\n",
            "Index(['movie_id', 'title', 'release_date', 'video_release_date', 'imdb_url',\n",
            "       'genre_unknown', 'Action', 'Adventure', 'Animation', 'Children',\n",
            "       'Comedy', 'Crime', 'Documentary', 'Drama', 'Fantasy', 'Film-Noir',\n",
            "       'Horror', 'Musical', 'Mystery', 'Romance', 'Sci-Fi', 'Thriller', 'War',\n",
            "       'Western', 'genres'],\n",
            "      dtype='object')\n",
            "     Action  Children  Drama  Comedy\n",
            "188       0         0      0       1\n",
            "Index(['movie_id', 'title', 'release_date', 'video_release_date', 'imdb_url',\n",
            "       'genre_unknown', 'Action', 'Adventure', 'Animation', 'Children',\n",
            "       'Comedy', 'Crime', 'Documentary', 'Drama', 'Fantasy', 'Film-Noir',\n",
            "       'Horror', 'Musical', 'Mystery', 'Romance', 'Sci-Fi', 'Thriller', 'War',\n",
            "       'Western', 'genres'],\n",
            "      dtype='object')\n",
            "     Action  Children  Drama  Comedy\n",
            "429       0         0      0       1\n",
            "Index(['movie_id', 'title', 'release_date', 'video_release_date', 'imdb_url',\n",
            "       'genre_unknown', 'Action', 'Adventure', 'Animation', 'Children',\n",
            "       'Comedy', 'Crime', 'Documentary', 'Drama', 'Fantasy', 'Film-Noir',\n",
            "       'Horror', 'Musical', 'Mystery', 'Romance', 'Sci-Fi', 'Thriller', 'War',\n",
            "       'Western', 'genres'],\n",
            "      dtype='object')\n",
            "     Action  Children  Drama  Comedy\n",
            "168       0         0      0       1\n",
            "Index(['movie_id', 'title', 'release_date', 'video_release_date', 'imdb_url',\n",
            "       'genre_unknown', 'Action', 'Adventure', 'Animation', 'Children',\n",
            "       'Comedy', 'Crime', 'Documentary', 'Drama', 'Fantasy', 'Film-Noir',\n",
            "       'Horror', 'Musical', 'Mystery', 'Romance', 'Sci-Fi', 'Thriller', 'War',\n",
            "       'Western', 'genres'],\n",
            "      dtype='object')\n",
            "     Action  Children  Drama  Comedy\n",
            "162       0         0      0       1\n",
            "Index(['movie_id', 'title', 'release_date', 'video_release_date', 'imdb_url',\n",
            "       'genre_unknown', 'Action', 'Adventure', 'Animation', 'Children',\n",
            "       'Comedy', 'Crime', 'Documentary', 'Drama', 'Fantasy', 'Film-Noir',\n",
            "       'Horror', 'Musical', 'Mystery', 'Romance', 'Sci-Fi', 'Thriller', 'War',\n",
            "       'Western', 'genres'],\n",
            "      dtype='object')\n",
            "     Action  Children  Drama  Comedy\n",
            "185       1         0      0       1\n",
            "Index(['movie_id', 'title', 'release_date', 'video_release_date', 'imdb_url',\n",
            "       'genre_unknown', 'Action', 'Adventure', 'Animation', 'Children',\n",
            "       'Comedy', 'Crime', 'Documentary', 'Drama', 'Fantasy', 'Film-Noir',\n",
            "       'Horror', 'Musical', 'Mystery', 'Romance', 'Sci-Fi', 'Thriller', 'War',\n",
            "       'Western', 'genres'],\n",
            "      dtype='object')\n",
            "     Action  Children  Drama  Comedy\n",
            "435       0         0      0       0\n",
            "Index(['movie_id', 'title', 'release_date', 'video_release_date', 'imdb_url',\n",
            "       'genre_unknown', 'Action', 'Adventure', 'Animation', 'Children',\n",
            "       'Comedy', 'Crime', 'Documentary', 'Drama', 'Fantasy', 'Film-Noir',\n",
            "       'Horror', 'Musical', 'Mystery', 'Romance', 'Sci-Fi', 'Thriller', 'War',\n",
            "       'Western', 'genres'],\n",
            "      dtype='object')\n",
            "     Action  Children  Drama  Comedy\n",
            "432       0         0      0       1\n",
            "Index(['movie_id', 'title', 'release_date', 'video_release_date', 'imdb_url',\n",
            "       'genre_unknown', 'Action', 'Adventure', 'Animation', 'Children',\n",
            "       'Comedy', 'Crime', 'Documentary', 'Drama', 'Fantasy', 'Film-Noir',\n",
            "       'Horror', 'Musical', 'Mystery', 'Romance', 'Sci-Fi', 'Thriller', 'War',\n",
            "       'Western', 'genres'],\n",
            "      dtype='object')\n",
            "     Action  Children  Drama  Comedy\n",
            "427       0         0      0       1\n",
            "Index(['movie_id', 'title', 'release_date', 'video_release_date', 'imdb_url',\n",
            "       'genre_unknown', 'Action', 'Adventure', 'Animation', 'Children',\n",
            "       'Comedy', 'Crime', 'Documentary', 'Drama', 'Fantasy', 'Film-Noir',\n",
            "       'Horror', 'Musical', 'Mystery', 'Romance', 'Sci-Fi', 'Thriller', 'War',\n",
            "       'Western', 'genres'],\n",
            "      dtype='object')\n",
            "     Action  Children  Drama  Comedy\n",
            "395       0         0      0       1\n",
            "Index(['movie_id', 'title', 'release_date', 'video_release_date', 'imdb_url',\n",
            "       'genre_unknown', 'Action', 'Adventure', 'Animation', 'Children',\n",
            "       'Comedy', 'Crime', 'Documentary', 'Drama', 'Fantasy', 'Film-Noir',\n",
            "       'Horror', 'Musical', 'Mystery', 'Romance', 'Sci-Fi', 'Thriller', 'War',\n",
            "       'Western', 'genres'],\n",
            "      dtype='object')\n",
            "    Action  Children  Drama  Comedy\n",
            "41       0         0      0       1\n",
            "Index(['movie_id', 'title', 'release_date', 'video_release_date', 'imdb_url',\n",
            "       'genre_unknown', 'Action', 'Adventure', 'Animation', 'Children',\n",
            "       'Comedy', 'Crime', 'Documentary', 'Drama', 'Fantasy', 'Film-Noir',\n",
            "       'Horror', 'Musical', 'Mystery', 'Romance', 'Sci-Fi', 'Thriller', 'War',\n",
            "       'Western', 'genres'],\n",
            "      dtype='object')\n",
            "     Action  Children  Drama  Comedy\n",
            "100       1         0      0       0\n",
            "Index(['movie_id', 'title', 'release_date', 'video_release_date', 'imdb_url',\n",
            "       'genre_unknown', 'Action', 'Adventure', 'Animation', 'Children',\n",
            "       'Comedy', 'Crime', 'Documentary', 'Drama', 'Fantasy', 'Film-Noir',\n",
            "       'Horror', 'Musical', 'Mystery', 'Romance', 'Sci-Fi', 'Thriller', 'War',\n",
            "       'Western', 'genres'],\n",
            "      dtype='object')\n",
            "     Action  Children  Drama  Comedy\n",
            "433       0         0      0       0\n",
            "Index(['movie_id', 'title', 'release_date', 'video_release_date', 'imdb_url',\n",
            "       'genre_unknown', 'Action', 'Adventure', 'Animation', 'Children',\n",
            "       'Comedy', 'Crime', 'Documentary', 'Drama', 'Fantasy', 'Film-Noir',\n",
            "       'Horror', 'Musical', 'Mystery', 'Romance', 'Sci-Fi', 'Thriller', 'War',\n",
            "       'Western', 'genres'],\n",
            "      dtype='object')\n",
            "     Action  Children  Drama  Comedy\n",
            "389       0         0      0       1\n"
          ]
        },
        {
          "output_type": "stream",
          "name": "stderr",
          "text": [
            "<ipython-input-57-f8f24cc7a36d>:4: UserWarning: Boolean Series key will be reindexed to match DataFrame index.\n",
            "  filtered_df = merged_df[merged_df['user_id'] == 5][merged_df['rating'] == 5]\n"
          ]
        }
      ]
    },
    {
      "cell_type": "markdown",
      "source": [
        "It appears the user with user_id == 5 is fond of the comedy genre. So we might expect to see some comedies get recommended from our engine choices, especially with content-based recommendation."
      ],
      "metadata": {
        "id": "LmpnW4JcCLru"
      }
    },
    {
      "cell_type": "code",
      "source": [
        "user_id_to_recommend_content = 5\n",
        "content_based_recommendations = content_based_recommendation(user_id_to_recommend_content, merged_df)\n",
        "\n",
        "print(f\"Content-Based Recommendations for User {user_id_to_recommend_content}:\")\n",
        "print(content_based_recommendations)"
      ],
      "metadata": {
        "colab": {
          "base_uri": "https://localhost:8080/"
        },
        "id": "k1wuh4Y7CV0n",
        "outputId": "32e580e8-1817-4e6f-ca5b-8a26b5ef3811"
      },
      "execution_count": 59,
      "outputs": [
        {
          "output_type": "stream",
          "name": "stdout",
          "text": [
            "Content-Based Recommendations for User 5:\n",
            "[1, 514, 1026, 1539, 1029]\n"
          ]
        }
      ]
    },
    {
      "cell_type": "markdown",
      "source": [
        "These are the movie IDs of the top 5 recommended movies for user_id = 100. But which movies are these?"
      ],
      "metadata": {
        "id": "03W68g1bZZis"
      }
    },
    {
      "cell_type": "code",
      "source": [
        "# Filter rows in column 'title' where the value in column 'movie_id' is in list content_based_recommendations\n",
        "filtered_values = movies[movies['movie_id'].isin(content_based_recommendations)]['title'].tolist()\n",
        "print(filtered_values)"
      ],
      "metadata": {
        "id": "dL8UGo1AZ6ZR",
        "outputId": "dd12daa7-a05d-467d-bfcc-401ab8797778",
        "colab": {
          "base_uri": "https://localhost:8080/"
        }
      },
      "execution_count": 60,
      "outputs": [
        {
          "output_type": "stream",
          "name": "stdout",
          "text": [
            "['Toy Story (1995)', 'Annie Hall (1977)', 'Lay of the Land, The (1997)', 'Jury Duty (1995)', 'Being Human (1993)']\n"
          ]
        }
      ]
    },
    {
      "cell_type": "markdown",
      "source": [
        "Are any of these comedies?"
      ],
      "metadata": {
        "id": "kXf9wJOgbE24"
      }
    },
    {
      "cell_type": "code",
      "source": [
        "# Filter rows in column 'genres' where the value in column 'movie_id' is in list content_based_recommendations\n",
        "filtered_values = movies[movies['movie_id'].isin(content_based_recommendations)]['genres'].tolist()\n",
        "print(filtered_values)"
      ],
      "metadata": {
        "id": "vjMb8U7VbHdU",
        "outputId": "583d9584-c452-48b4-b4bc-e2929f59b340",
        "colab": {
          "base_uri": "https://localhost:8080/"
        }
      },
      "execution_count": 61,
      "outputs": [
        {
          "output_type": "stream",
          "name": "stdout",
          "text": [
            "[\"['Animation', 'Children', 'Comedy']\", \"['Comedy', 'Romance']\", \"['Comedy', 'Drama']\", \"['Comedy']\", \"['Drama']\"]\n"
          ]
        }
      ]
    },
    {
      "cell_type": "markdown",
      "source": [
        "We do see that 4 out of the top 5 recommended films are comedies."
      ],
      "metadata": {
        "id": "0FXD20ODbWUk"
      }
    },
    {
      "cell_type": "markdown",
      "source": [
        "Now let's see what results we get out of the collaborative filtering recommendation."
      ],
      "metadata": {
        "id": "mwuefGDEboay"
      }
    },
    {
      "cell_type": "code",
      "source": [
        "user_id_to_recommend_content = 5\n",
        "collaborative_filtering_recommendations = collaborative_filtering_recommendation(user_id_to_recommend_content, merged_df)\n",
        "\n",
        "print(f\"Collaborative Filtering Recommendations for User {user_id_to_recommend_content}:\")\n",
        "print(collaborative_filtering_recommendations)"
      ],
      "metadata": {
        "id": "fVKO6PR6b50C",
        "outputId": "80ac103e-0488-4ede-b9c5-07bef6b8d37d",
        "colab": {
          "base_uri": "https://localhost:8080/"
        }
      },
      "execution_count": 80,
      "outputs": [
        {
          "output_type": "stream",
          "name": "stdout",
          "text": [
            "Collaborative Filtering Recommendations for User 5:\n",
            "['Empire Strikes Back, The (1980)', 'Return of the Jedi (1983)', 'Wrong Trousers, The (1993)', 'Monty Python and the Holy Grail (1974)', 'Princess Bride, The (1987)']\n"
          ]
        }
      ]
    },
    {
      "cell_type": "code",
      "source": [
        "# Filter rows in column 'genres' where the value in column 'movie_id' is in list content_based_recommendations\n",
        "filtered_values = movies[movies['title'].isin(collaborative_filtering_recommendations)]['genres'].tolist()\n",
        "print(filtered_values)"
      ],
      "metadata": {
        "id": "_Ecd6pQnfCwx",
        "outputId": "7ffc3e0b-b4a4-4b13-9325-8c1ef8d57463",
        "colab": {
          "base_uri": "https://localhost:8080/"
        }
      },
      "execution_count": 79,
      "outputs": [
        {
          "output_type": "stream",
          "name": "stdout",
          "text": [
            "[\"['Comedy']\", \"['Animation', 'Comedy']\", \"['Action', 'Adventure', 'Drama', 'Romance', 'Sci-Fi', 'War']\", \"['Action', 'Adventure', 'Comedy', 'Romance']\", \"['Action', 'Adventure', 'Romance', 'Sci-Fi', 'War']\"]\n"
          ]
        }
      ]
    },
    {
      "cell_type": "markdown",
      "source": [
        "We see that the recommended movie set consists of comedies, action, dramas, sci-fi, and even romance. This recommendation is a little less explainable but is indeed more surendipitous than the content-based apporoach. Personally, I think the collaborative filtering based approach is more interesting but there is value in using both methods. I could see an optimized system using both in a sort of hybrid model."
      ],
      "metadata": {
        "id": "X-YB0J_TfvFH"
      }
    }
  ]
}