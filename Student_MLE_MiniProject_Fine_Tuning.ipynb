{
  "nbformat": 4,
  "nbformat_minor": 0,
  "metadata": {
    "colab": {
      "provenance": [],
      "gpuType": "T4"
    },
    "kernelspec": {
      "name": "python3",
      "display_name": "Python 3"
    },
    "language_info": {
      "name": "python"
    },
    "accelerator": "GPU"
  },
  "cells": [
    {
      "cell_type": "markdown",
      "source": [
        "# Mini Project: Transfer Learning with Keras\n",
        "\n",
        "Transfer learning is a machine learning technique where a model trained on one task is used as a starting point to solve a different but related task. Instead of training a model from scratch, transfer learning leverages the knowledge learned from the source task and applies it to the target task. This approach is especially useful when the target task has limited data or computational resources.\n",
        "\n",
        "In transfer learning, the pre-trained model, also known as the \"base model\" or \"source model,\" is typically trained on a large dataset and a more general problem (e.g., image classification on ImageNet, a vast dataset with millions of labeled images). The knowledge learned by the base model in the form of feature representations and weights captures common patterns and features in the data.\n",
        "\n",
        "To perform transfer learning, the following steps are commonly followed:\n",
        "\n",
        "1. Pre-training: The base model is trained on a source task using a large dataset, which can take a considerable amount of time and computational resources.\n",
        "\n",
        "2. Feature Extraction: After pre-training, the base model is used as a feature extractor. The last few layers (classifier layers) of the model are discarded, and the remaining layers (feature extraction layers) are retained. These layers serve as feature extractors, producing meaningful representations of the data.\n",
        "\n",
        "3. Fine-tuning: The feature extraction layers and sometimes some of the earlier layers are connected to a new set of layers, often called the \"classifier layers\" or \"task-specific layers.\" These layers are randomly initialized, and the model is trained on the target task with a smaller dataset. The weights of the base model can be frozen during fine-tuning, or they can be allowed to be updated with a lower learning rate to fine-tune the model for the target task.\n",
        "\n",
        "Transfer learning has several benefits:\n",
        "\n",
        "1. Reduced training time and resource requirements: Since the base model has already learned generic features, transfer learning can save time and resources compared to training a model from scratch.\n",
        "\n",
        "2. Improved generalization: Transfer learning helps the model generalize better to the target task, especially when the target dataset is small and dissimilar from the source dataset.\n",
        "\n",
        "3. Better performance: By starting from a model that is already trained on a large dataset, transfer learning can lead to better performance on the target task, especially in scenarios with limited data.\n",
        "\n",
        "4. Effective feature extraction: The feature extraction layers of the pre-trained model can serve as powerful feature extractors for different tasks, even when the task domains differ.\n",
        "\n",
        "Transfer learning is commonly used in various domains, including computer vision, natural language processing (NLP), and speech recognition, where pre-trained models are fine-tuned for specific applications like object detection, sentiment analysis, or speech-to-text.\n",
        "\n",
        "In this mini-project you will perform fine-tuning using Keras with a pre-trained VGG16 model on the CIFAR-10 dataset."
      ],
      "metadata": {
        "id": "fyXucUekO19i"
      }
    },
    {
      "cell_type": "markdown",
      "source": [
        "First, import all the libraries you'll need."
      ],
      "metadata": {
        "id": "TYuE9O6I2uRY"
      }
    },
    {
      "cell_type": "code",
      "execution_count": 2,
      "metadata": {
        "id": "kLWR1DfQPakn"
      },
      "outputs": [],
      "source": [
        "import numpy as np\n",
        "import tensorflow as tf\n",
        "from tensorflow.keras.datasets import cifar10\n",
        "from tensorflow.keras.applications import VGG16\n",
        "from tensorflow.keras.models import Model\n",
        "from tensorflow.keras.layers import Dense, GlobalAveragePooling2D\n",
        "from tensorflow.keras.optimizers import Adam\n",
        "from tensorflow.keras.utils import to_categorical\n",
        "from sklearn.model_selection import train_test_split"
      ]
    },
    {
      "cell_type": "markdown",
      "source": [
        "The CIFAR-10 dataset is a widely used benchmark dataset in the field of computer vision and machine learning. It stands for the \"Canadian Institute for Advanced Research 10\" dataset. CIFAR-10 was created by researchers at the CIFAR institute and was originally introduced as part of the Neural Information Processing Systems (NIPS) 2009 competition.\n",
        "\n",
        "The dataset consists of 60,000 color images, each of size 32x32 pixels, belonging to ten different classes. Each class contains 6,000 images. The ten classes in CIFAR-10 are:\n",
        "\n",
        "1. Airplane\n",
        "2. Automobile\n",
        "3. Bird\n",
        "4. Cat\n",
        "5. Deer\n",
        "6. Dog\n",
        "7. Frog\n",
        "8. Horse\n",
        "9. Ship\n",
        "10. Truck\n",
        "\n",
        "The images are evenly distributed across the classes, making CIFAR-10 a balanced dataset. The dataset is divided into two sets: a training set and a test set. The training set contains 50,000 images, while the test set contains the remaining 10,000 images.\n",
        "\n",
        "CIFAR-10 is often used for tasks such as image classification, object recognition, and transfer learning experiments. The relatively small size of the images and the variety of classes make it a challenging dataset for training machine learning models, especially deep neural networks. It also serves as a good dataset for teaching and learning purposes due to its manageable size and straightforward class labels."
      ],
      "metadata": {
        "id": "TEB60YsX2yUf"
      }
    },
    {
      "cell_type": "markdown",
      "source": [
        "Here are your tasks:\n",
        "\n",
        "1. Load the CIFAR-10 dataset after referencing the documentation [here](https://keras.io/api/datasets/cifar10/).\n",
        "2. Normalize the pixel values so they're all in the range [0, 1].\n",
        "3. Apply One Hot Encoding to the train and test labels using the [to_categorical](https://www.tensorflow.org/api_docs/python/tf/keras/utils/to_categorical) function.\n",
        "4. Further split the the training data into training and validation sets using [train_test_split](https://scikit-learn.org/stable/modules/generated/sklearn.model_selection.train_test_split.html). Use only 10% of the data for validation.  "
      ],
      "metadata": {
        "id": "Gp0MVIbiFonL"
      }
    },
    {
      "cell_type": "code",
      "source": [
        "# Load the CIFAR-10 dataset\n",
        "import keras\n",
        "(x_train, y_train), (x_test, y_test) = keras.datasets.cifar10.load_data()\n",
        "assert x_train.shape == (50000, 32, 32, 3)\n",
        "assert x_test.shape == (10000, 32, 32, 3)\n",
        "assert y_train.shape == (50000, 1)\n",
        "assert y_test.shape == (10000, 1)"
      ],
      "metadata": {
        "id": "ndNbwjaaSvs-",
        "colab": {
          "base_uri": "https://localhost:8080/"
        },
        "outputId": "b823d76f-6b4c-426c-c522-18d3fce7d356"
      },
      "execution_count": 3,
      "outputs": [
        {
          "output_type": "stream",
          "name": "stdout",
          "text": [
            "Downloading data from https://www.cs.toronto.edu/~kriz/cifar-10-python.tar.gz\n",
            "170498071/170498071 [==============================] - 4s 0us/step\n"
          ]
        }
      ]
    },
    {
      "cell_type": "code",
      "source": [
        "# Normalize the pixel values to [0, 1]\n",
        "X_train, X_test = x_train / 255.0, x_test / 255.0"
      ],
      "metadata": {
        "id": "8H6KUgh2SxxR"
      },
      "execution_count": 4,
      "outputs": []
    },
    {
      "cell_type": "code",
      "source": [
        "# One-hot encode the labels\n",
        "train_labels = to_categorical(y_train, num_classes=10)\n",
        "test_labels = to_categorical(y_test, num_classes=10)"
      ],
      "metadata": {
        "id": "mWDW1ZLySz7K"
      },
      "execution_count": 5,
      "outputs": []
    },
    {
      "cell_type": "code",
      "source": [
        "# Split the data into training and validation sets (further from the training set)\n",
        "train_images, val_images, train_labels, val_labels = train_test_split(\n",
        "    X_train, train_labels, test_size=0.1, random_state=42\n",
        ")"
      ],
      "metadata": {
        "id": "4y3zao91ndZB"
      },
      "execution_count": 6,
      "outputs": []
    },
    {
      "cell_type": "markdown",
      "source": [
        "VGG16 (Visual Geometry Group 16) is a deep convolutional neural network architecture that was developed by the Visual Geometry Group at the University of Oxford. It was proposed by researchers Karen Simonyan and Andrew Zisserman in their paper titled \"Very Deep Convolutional Networks for Large-Scale Image Recognition,\" which was presented at the International Conference on Learning Representations (ICLR) in 2015.\n",
        "\n",
        "The VGG16 architecture gained significant popularity for its simplicity and effectiveness in image classification tasks. It was one of the pioneering models that demonstrated the power of deeper neural networks for visual recognition tasks.\n",
        "\n",
        "Key characteristics of the VGG16 architecture:\n",
        "\n",
        "1. Architecture: VGG16 consists of a total of 16 layers, hence the name \"16.\" These layers are stacked one after another, forming a deep neural network.\n",
        "\n",
        "2. Convolutional Layers: The main building blocks of VGG16 are the convolutional layers. It primarily uses 3x3 convolutional filters throughout the network, which allows it to capture local features effectively.\n",
        "\n",
        "3. Max Pooling: After each set of convolutional layers, VGG16 applies max-pooling layers with 2x2 filters and stride 2, which halves the spatial dimensions (width and height) of the feature maps and reduces the number of parameters.\n",
        "\n",
        "4. Fully Connected Layers: Towards the end of the network, VGG16 has fully connected layers that act as a classifier to make predictions based on the learned features.\n",
        "\n",
        "5. Activation Function: The network uses the Rectified Linear Unit (ReLU) activation function for all hidden layers, which helps with faster convergence during training.\n",
        "\n",
        "6. Number of Filters: The number of filters in each convolutional layer is relatively small compared to more recent architectures like ResNet or InceptionNet. However, stacking multiple layers allows VGG16 to learn complex hierarchical features.\n",
        "\n",
        "7. Output Layer: The output layer consists of 1000 units, corresponding to 1000 ImageNet classes. VGG16 was originally trained on the large-scale ImageNet dataset, which contains millions of images from 1000 different classes.\n",
        "\n",
        "VGG16 was instrumental in showing that increasing the depth of a neural network can significantly improve its performance on image recognition tasks. However, the main drawback of VGG16 is its high number of parameters, making it computationally expensive and memory-intensive to train. Despite this limitation, VGG16 remains an essential benchmark architecture and has paved the way for even deeper and more efficient models in the field of computer vision, such as ResNet, DenseNet, and EfficientNet."
      ],
      "metadata": {
        "id": "aiFJsxS5HPHW"
      }
    },
    {
      "cell_type": "markdown",
      "source": [
        "Here are your tasks:\n",
        "\n",
        "1. Load [VGG16](https://keras.io/api/applications/vgg/#vgg16-function) as a base model. Make sure to exclude the top layer.\n",
        "2. Freeze all the layers in the base model. We'll be using these weights as a feature extraction layer to forward to layers that are trainable."
      ],
      "metadata": {
        "id": "XJw9E1D9Q3tQ"
      }
    },
    {
      "cell_type": "code",
      "source": [
        "# Load the pre-trained VGG16 model (excluding the top classifier)\n",
        "base_model = VGG16(weights='imagenet', include_top=False, input_shape=(32, 32, 3))\n",
        "\n",
        "# Display a summary of the base model\n",
        "base_model.summary()"
      ],
      "metadata": {
        "id": "bncm8oTonijm",
        "colab": {
          "base_uri": "https://localhost:8080/"
        },
        "outputId": "fa99d1a7-9682-4ed2-a957-f590f256bf84"
      },
      "execution_count": 7,
      "outputs": [
        {
          "output_type": "stream",
          "name": "stdout",
          "text": [
            "Downloading data from https://storage.googleapis.com/tensorflow/keras-applications/vgg16/vgg16_weights_tf_dim_ordering_tf_kernels_notop.h5\n",
            "58889256/58889256 [==============================] - 0s 0us/step\n",
            "Model: \"vgg16\"\n",
            "_________________________________________________________________\n",
            " Layer (type)                Output Shape              Param #   \n",
            "=================================================================\n",
            " input_1 (InputLayer)        [(None, 32, 32, 3)]       0         \n",
            "                                                                 \n",
            " block1_conv1 (Conv2D)       (None, 32, 32, 64)        1792      \n",
            "                                                                 \n",
            " block1_conv2 (Conv2D)       (None, 32, 32, 64)        36928     \n",
            "                                                                 \n",
            " block1_pool (MaxPooling2D)  (None, 16, 16, 64)        0         \n",
            "                                                                 \n",
            " block2_conv1 (Conv2D)       (None, 16, 16, 128)       73856     \n",
            "                                                                 \n",
            " block2_conv2 (Conv2D)       (None, 16, 16, 128)       147584    \n",
            "                                                                 \n",
            " block2_pool (MaxPooling2D)  (None, 8, 8, 128)         0         \n",
            "                                                                 \n",
            " block3_conv1 (Conv2D)       (None, 8, 8, 256)         295168    \n",
            "                                                                 \n",
            " block3_conv2 (Conv2D)       (None, 8, 8, 256)         590080    \n",
            "                                                                 \n",
            " block3_conv3 (Conv2D)       (None, 8, 8, 256)         590080    \n",
            "                                                                 \n",
            " block3_pool (MaxPooling2D)  (None, 4, 4, 256)         0         \n",
            "                                                                 \n",
            " block4_conv1 (Conv2D)       (None, 4, 4, 512)         1180160   \n",
            "                                                                 \n",
            " block4_conv2 (Conv2D)       (None, 4, 4, 512)         2359808   \n",
            "                                                                 \n",
            " block4_conv3 (Conv2D)       (None, 4, 4, 512)         2359808   \n",
            "                                                                 \n",
            " block4_pool (MaxPooling2D)  (None, 2, 2, 512)         0         \n",
            "                                                                 \n",
            " block5_conv1 (Conv2D)       (None, 2, 2, 512)         2359808   \n",
            "                                                                 \n",
            " block5_conv2 (Conv2D)       (None, 2, 2, 512)         2359808   \n",
            "                                                                 \n",
            " block5_conv3 (Conv2D)       (None, 2, 2, 512)         2359808   \n",
            "                                                                 \n",
            " block5_pool (MaxPooling2D)  (None, 1, 1, 512)         0         \n",
            "                                                                 \n",
            "=================================================================\n",
            "Total params: 14714688 (56.13 MB)\n",
            "Trainable params: 14714688 (56.13 MB)\n",
            "Non-trainable params: 0 (0.00 Byte)\n",
            "_________________________________________________________________\n"
          ]
        }
      ]
    },
    {
      "cell_type": "code",
      "source": [
        "# Freeze the layers in the base model\n",
        "for layer in base_model.layers:\n",
        "    layer.trainable = False\n",
        "\n",
        "# Display a summary of the base model\n",
        "base_model.summary()"
      ],
      "metadata": {
        "id": "pCQXH4bwS6h5",
        "colab": {
          "base_uri": "https://localhost:8080/"
        },
        "outputId": "5d9ceaa2-d972-4efc-9547-520826d74f6f"
      },
      "execution_count": 8,
      "outputs": [
        {
          "output_type": "stream",
          "name": "stdout",
          "text": [
            "Model: \"vgg16\"\n",
            "_________________________________________________________________\n",
            " Layer (type)                Output Shape              Param #   \n",
            "=================================================================\n",
            " input_1 (InputLayer)        [(None, 32, 32, 3)]       0         \n",
            "                                                                 \n",
            " block1_conv1 (Conv2D)       (None, 32, 32, 64)        1792      \n",
            "                                                                 \n",
            " block1_conv2 (Conv2D)       (None, 32, 32, 64)        36928     \n",
            "                                                                 \n",
            " block1_pool (MaxPooling2D)  (None, 16, 16, 64)        0         \n",
            "                                                                 \n",
            " block2_conv1 (Conv2D)       (None, 16, 16, 128)       73856     \n",
            "                                                                 \n",
            " block2_conv2 (Conv2D)       (None, 16, 16, 128)       147584    \n",
            "                                                                 \n",
            " block2_pool (MaxPooling2D)  (None, 8, 8, 128)         0         \n",
            "                                                                 \n",
            " block3_conv1 (Conv2D)       (None, 8, 8, 256)         295168    \n",
            "                                                                 \n",
            " block3_conv2 (Conv2D)       (None, 8, 8, 256)         590080    \n",
            "                                                                 \n",
            " block3_conv3 (Conv2D)       (None, 8, 8, 256)         590080    \n",
            "                                                                 \n",
            " block3_pool (MaxPooling2D)  (None, 4, 4, 256)         0         \n",
            "                                                                 \n",
            " block4_conv1 (Conv2D)       (None, 4, 4, 512)         1180160   \n",
            "                                                                 \n",
            " block4_conv2 (Conv2D)       (None, 4, 4, 512)         2359808   \n",
            "                                                                 \n",
            " block4_conv3 (Conv2D)       (None, 4, 4, 512)         2359808   \n",
            "                                                                 \n",
            " block4_pool (MaxPooling2D)  (None, 2, 2, 512)         0         \n",
            "                                                                 \n",
            " block5_conv1 (Conv2D)       (None, 2, 2, 512)         2359808   \n",
            "                                                                 \n",
            " block5_conv2 (Conv2D)       (None, 2, 2, 512)         2359808   \n",
            "                                                                 \n",
            " block5_conv3 (Conv2D)       (None, 2, 2, 512)         2359808   \n",
            "                                                                 \n",
            " block5_pool (MaxPooling2D)  (None, 1, 1, 512)         0         \n",
            "                                                                 \n",
            "=================================================================\n",
            "Total params: 14714688 (56.13 MB)\n",
            "Trainable params: 0 (0.00 Byte)\n",
            "Non-trainable params: 14714688 (56.13 MB)\n",
            "_________________________________________________________________\n"
          ]
        }
      ]
    },
    {
      "cell_type": "markdown",
      "source": [
        "Now, we'll add some trainable layers to the base model.\n",
        "\n",
        "1. Using the base model, add a [GlobalAveragePooling2D](https://keras.io/api/layers/pooling_layers/global_average_pooling2d/) layer, followed by a [Dense](https://keras.io/api/layers/core_layers/dense/) layer of length 256 with ReLU activation. Finally, add a classification layer with 10 units, corresponding to the 10 CIFAR-10 classes, with softmax activation.\n",
        "2. Create a Keras [Model](https://keras.io/api/models/model/) that takes in approproate inputs and outputs."
      ],
      "metadata": {
        "id": "MAnyLR6btWqd"
      }
    },
    {
      "cell_type": "code",
      "source": [
        "# Add a global average pooling layer\n",
        "\n",
        "from tensorflow.keras.models import Sequential\n",
        "\n",
        "# Create a Sequential model\n",
        "custom_model = Sequential()\n",
        "\n",
        "# Add the VGG16 base model (frozen) to the custom model\n",
        "custom_model.add(base_model)\n",
        "\n",
        "# Now add GlobalAveragePooling2D layer to the Sequential model\n",
        "custom_model.add(GlobalAveragePooling2D())"
      ],
      "metadata": {
        "id": "GiD0CiSvTCRG"
      },
      "execution_count": 9,
      "outputs": []
    },
    {
      "cell_type": "code",
      "source": [
        "# Add a fully connected layer with 256 units and ReLU activation\n",
        "custom_model.add(Dense(256, activation='relu'))"
      ],
      "metadata": {
        "id": "fKbX1RK4TCB9"
      },
      "execution_count": 10,
      "outputs": []
    },
    {
      "cell_type": "code",
      "source": [
        "# Add the final classification layer with 10 units (for CIFAR-10 classes) and softmax activation\n",
        "custom_model.add(Dense(10, activation='softmax'))"
      ],
      "metadata": {
        "id": "yEYDagVQTB33"
      },
      "execution_count": 11,
      "outputs": []
    },
    {
      "cell_type": "code",
      "source": [
        "# Create the fine-tuned model\n",
        "\n",
        "# Display a summary of the custom model before compiling\n",
        "custom_model.summary()"
      ],
      "metadata": {
        "id": "A-op7iObo8io",
        "colab": {
          "base_uri": "https://localhost:8080/"
        },
        "outputId": "251e7aa4-4cc0-4089-8548-62675643595d"
      },
      "execution_count": 12,
      "outputs": [
        {
          "output_type": "stream",
          "name": "stdout",
          "text": [
            "Model: \"sequential\"\n",
            "_________________________________________________________________\n",
            " Layer (type)                Output Shape              Param #   \n",
            "=================================================================\n",
            " vgg16 (Functional)          (None, 1, 1, 512)         14714688  \n",
            "                                                                 \n",
            " global_average_pooling2d (  (None, 512)               0         \n",
            " GlobalAveragePooling2D)                                         \n",
            "                                                                 \n",
            " dense (Dense)               (None, 256)               131328    \n",
            "                                                                 \n",
            " dense_1 (Dense)             (None, 10)                2570      \n",
            "                                                                 \n",
            "=================================================================\n",
            "Total params: 14848586 (56.64 MB)\n",
            "Trainable params: 133898 (523.04 KB)\n",
            "Non-trainable params: 14714688 (56.13 MB)\n",
            "_________________________________________________________________\n"
          ]
        }
      ]
    },
    {
      "cell_type": "markdown",
      "source": [
        "With your model complete it's time to train it and assess its performance.\n",
        "\n",
        "1. Compile your model using an appropriate loss function. Feel free to play around with the optimizer, but a good starting optimizer might be Adam with a learning rate of 0.001.\n",
        "2. Fit your model on the training data. Use the validation data to print the accuracy for each epoch. Try training for 10 epochs. Note, training can take a few hours so go ahead and grab a cup of coffee.\n",
        "\n",
        "**Optional**: See if you can implement an [Early Stopping](https://keras.io/api/callbacks/early_stopping/) criteria as a callback function."
      ],
      "metadata": {
        "id": "jjgG_9IMwuLS"
      }
    },
    {
      "cell_type": "code",
      "source": [
        "# Compile the model\n",
        "custom_model.compile(optimizer=Adam(learning_rate=0.0001), loss='categorical_crossentropy', metrics=['accuracy'])"
      ],
      "metadata": {
        "id": "xTFBXCe6TG5m"
      },
      "execution_count": 13,
      "outputs": []
    },
    {
      "cell_type": "code",
      "source": [
        "# Train the model\n",
        "\n",
        "from tensorflow.keras.callbacks import EarlyStopping\n",
        "\n",
        "# Define Early Stopping callback\n",
        "early_stopping = EarlyStopping(monitor='val_loss', patience=3, restore_best_weights=True)\n",
        "\n",
        "# Fit the model with Early Stopping callback\n",
        "history = custom_model.fit(\n",
        "    train_images, train_labels,\n",
        "    epochs=10,\n",
        "    validation_data=(val_images, val_labels),\n",
        "    callbacks=[early_stopping],\n",
        ")"
      ],
      "metadata": {
        "id": "M5JnXlGPpkDg",
        "colab": {
          "base_uri": "https://localhost:8080/"
        },
        "outputId": "27868165-1c32-4a52-f7cf-2af156327db7"
      },
      "execution_count": 14,
      "outputs": [
        {
          "output_type": "stream",
          "name": "stdout",
          "text": [
            "Epoch 1/10\n",
            "1407/1407 [==============================] - 18s 10ms/step - loss: 1.6689 - accuracy: 0.4348 - val_loss: 1.4181 - val_accuracy: 0.5094\n",
            "Epoch 2/10\n",
            "1407/1407 [==============================] - 13s 10ms/step - loss: 1.3595 - accuracy: 0.5347 - val_loss: 1.3145 - val_accuracy: 0.5438\n",
            "Epoch 3/10\n",
            "1407/1407 [==============================] - 14s 10ms/step - loss: 1.2806 - accuracy: 0.5600 - val_loss: 1.2631 - val_accuracy: 0.5600\n",
            "Epoch 4/10\n",
            "1407/1407 [==============================] - 14s 10ms/step - loss: 1.2362 - accuracy: 0.5750 - val_loss: 1.2371 - val_accuracy: 0.5690\n",
            "Epoch 5/10\n",
            "1407/1407 [==============================] - 14s 10ms/step - loss: 1.2045 - accuracy: 0.5871 - val_loss: 1.2136 - val_accuracy: 0.5802\n",
            "Epoch 6/10\n",
            "1407/1407 [==============================] - 14s 10ms/step - loss: 1.1811 - accuracy: 0.5934 - val_loss: 1.2000 - val_accuracy: 0.5802\n",
            "Epoch 7/10\n",
            "1407/1407 [==============================] - 14s 10ms/step - loss: 1.1617 - accuracy: 0.5996 - val_loss: 1.1816 - val_accuracy: 0.5896\n",
            "Epoch 8/10\n",
            "1407/1407 [==============================] - 14s 10ms/step - loss: 1.1468 - accuracy: 0.6049 - val_loss: 1.1747 - val_accuracy: 0.5906\n",
            "Epoch 9/10\n",
            "1407/1407 [==============================] - 14s 10ms/step - loss: 1.1319 - accuracy: 0.6095 - val_loss: 1.1689 - val_accuracy: 0.5930\n",
            "Epoch 10/10\n",
            "1407/1407 [==============================] - 14s 10ms/step - loss: 1.1197 - accuracy: 0.6158 - val_loss: 1.1559 - val_accuracy: 0.5994\n"
          ]
        }
      ]
    },
    {
      "cell_type": "markdown",
      "source": [
        "With your model trained, it's time to assess how well it performs on the test data.\n",
        "\n",
        "1. Use your trained model to calculate the accuracy on the test set. Is the model performance better than random?\n",
        "2. Experiment! See if you can tweak your model to improve performance.  "
      ],
      "metadata": {
        "id": "N8-T6EnmypvW"
      }
    },
    {
      "cell_type": "code",
      "source": [
        "# Evaluate the model on the test set\n",
        "test_loss, test_accuracy = custom_model.evaluate(X_test, test_labels)\n",
        "print(f'Test Accuracy: {test_accuracy}')"
      ],
      "metadata": {
        "id": "auYNYD0JpnaX",
        "colab": {
          "base_uri": "https://localhost:8080/"
        },
        "outputId": "b3d53fa7-32bc-450a-9b0a-b7acee57c12d"
      },
      "execution_count": 15,
      "outputs": [
        {
          "output_type": "stream",
          "name": "stdout",
          "text": [
            "313/313 [==============================] - 3s 10ms/step - loss: 1.1803 - accuracy: 0.5882\n",
            "Test Accuracy: 0.5881999731063843\n"
          ]
        }
      ]
    },
    {
      "cell_type": "markdown",
      "source": [
        "We see that the trained model does reasonably well with an accuracy of about .58; a random guess would yield an accuracy of .1 since there are 10 classes to choose from.\n"
      ],
      "metadata": {
        "id": "LPrKHk9madEd"
      }
    },
    {
      "cell_type": "markdown",
      "source": [
        "How can we get better results from our model? The easiest thing to try would be to just train the model for more epochs since we saw val loss continue to go down and val accuracy continue to go up over the 10 epochs fitting to the training data.\n"
      ],
      "metadata": {
        "id": "HlQtNJ2Kb3J3"
      }
    },
    {
      "cell_type": "code",
      "source": [
        "# Fit the model for another 30 epochs with Early Stopping callback\n",
        "history = custom_model.fit(\n",
        "    train_images, train_labels,\n",
        "    epochs=30,\n",
        "    validation_data=(val_images, val_labels),\n",
        "    callbacks=[early_stopping],\n",
        ")"
      ],
      "metadata": {
        "colab": {
          "base_uri": "https://localhost:8080/"
        },
        "id": "e7G16q3kb4a3",
        "outputId": "52e590c4-0980-4ece-e5c9-7807434c97c1"
      },
      "execution_count": 16,
      "outputs": [
        {
          "output_type": "stream",
          "name": "stdout",
          "text": [
            "Epoch 1/30\n",
            "1407/1407 [==============================] - 14s 10ms/step - loss: 1.1093 - accuracy: 0.6174 - val_loss: 1.1481 - val_accuracy: 0.6008\n",
            "Epoch 2/30\n",
            "1407/1407 [==============================] - 14s 10ms/step - loss: 1.0984 - accuracy: 0.6207 - val_loss: 1.1430 - val_accuracy: 0.6034\n",
            "Epoch 3/30\n",
            "1407/1407 [==============================] - 15s 11ms/step - loss: 1.0882 - accuracy: 0.6252 - val_loss: 1.1504 - val_accuracy: 0.6002\n",
            "Epoch 4/30\n",
            "1407/1407 [==============================] - 14s 10ms/step - loss: 1.0804 - accuracy: 0.6263 - val_loss: 1.1367 - val_accuracy: 0.6038\n",
            "Epoch 5/30\n",
            "1407/1407 [==============================] - 14s 10ms/step - loss: 1.0719 - accuracy: 0.6303 - val_loss: 1.1294 - val_accuracy: 0.6048\n",
            "Epoch 6/30\n",
            "1407/1407 [==============================] - 14s 10ms/step - loss: 1.0636 - accuracy: 0.6339 - val_loss: 1.1282 - val_accuracy: 0.6036\n",
            "Epoch 7/30\n",
            "1407/1407 [==============================] - 14s 10ms/step - loss: 1.0562 - accuracy: 0.6360 - val_loss: 1.1237 - val_accuracy: 0.6080\n",
            "Epoch 8/30\n",
            "1407/1407 [==============================] - 14s 10ms/step - loss: 1.0486 - accuracy: 0.6385 - val_loss: 1.1178 - val_accuracy: 0.6098\n",
            "Epoch 9/30\n",
            "1407/1407 [==============================] - 14s 10ms/step - loss: 1.0412 - accuracy: 0.6412 - val_loss: 1.1173 - val_accuracy: 0.6088\n",
            "Epoch 10/30\n",
            "1407/1407 [==============================] - 14s 10ms/step - loss: 1.0336 - accuracy: 0.6431 - val_loss: 1.1116 - val_accuracy: 0.6144\n",
            "Epoch 11/30\n",
            "1407/1407 [==============================] - 14s 10ms/step - loss: 1.0272 - accuracy: 0.6476 - val_loss: 1.1079 - val_accuracy: 0.6160\n",
            "Epoch 12/30\n",
            "1407/1407 [==============================] - 14s 10ms/step - loss: 1.0202 - accuracy: 0.6492 - val_loss: 1.1046 - val_accuracy: 0.6156\n",
            "Epoch 13/30\n",
            "1407/1407 [==============================] - 14s 10ms/step - loss: 1.0137 - accuracy: 0.6515 - val_loss: 1.1024 - val_accuracy: 0.6144\n",
            "Epoch 14/30\n",
            "1407/1407 [==============================] - 15s 10ms/step - loss: 1.0068 - accuracy: 0.6534 - val_loss: 1.1014 - val_accuracy: 0.6150\n",
            "Epoch 15/30\n",
            "1407/1407 [==============================] - 14s 10ms/step - loss: 1.0005 - accuracy: 0.6574 - val_loss: 1.1001 - val_accuracy: 0.6184\n",
            "Epoch 16/30\n",
            "1407/1407 [==============================] - 14s 10ms/step - loss: 0.9942 - accuracy: 0.6570 - val_loss: 1.1008 - val_accuracy: 0.6140\n",
            "Epoch 17/30\n",
            "1407/1407 [==============================] - 14s 10ms/step - loss: 0.9880 - accuracy: 0.6613 - val_loss: 1.0978 - val_accuracy: 0.6160\n",
            "Epoch 18/30\n",
            "1407/1407 [==============================] - 14s 10ms/step - loss: 0.9820 - accuracy: 0.6624 - val_loss: 1.0935 - val_accuracy: 0.6194\n",
            "Epoch 19/30\n",
            "1407/1407 [==============================] - 14s 10ms/step - loss: 0.9763 - accuracy: 0.6638 - val_loss: 1.0891 - val_accuracy: 0.6206\n",
            "Epoch 20/30\n",
            "1407/1407 [==============================] - 14s 10ms/step - loss: 0.9701 - accuracy: 0.6672 - val_loss: 1.0866 - val_accuracy: 0.6222\n",
            "Epoch 21/30\n",
            "1407/1407 [==============================] - 14s 10ms/step - loss: 0.9638 - accuracy: 0.6698 - val_loss: 1.0923 - val_accuracy: 0.6160\n",
            "Epoch 22/30\n",
            "1407/1407 [==============================] - 14s 10ms/step - loss: 0.9584 - accuracy: 0.6710 - val_loss: 1.0822 - val_accuracy: 0.6212\n",
            "Epoch 23/30\n",
            "1407/1407 [==============================] - 14s 10ms/step - loss: 0.9530 - accuracy: 0.6721 - val_loss: 1.0813 - val_accuracy: 0.6228\n",
            "Epoch 24/30\n",
            "1407/1407 [==============================] - 14s 10ms/step - loss: 0.9468 - accuracy: 0.6740 - val_loss: 1.0889 - val_accuracy: 0.6168\n",
            "Epoch 25/30\n",
            "1407/1407 [==============================] - 15s 11ms/step - loss: 0.9418 - accuracy: 0.6773 - val_loss: 1.0841 - val_accuracy: 0.6238\n",
            "Epoch 26/30\n",
            "1407/1407 [==============================] - 14s 10ms/step - loss: 0.9357 - accuracy: 0.6794 - val_loss: 1.0829 - val_accuracy: 0.6194\n"
          ]
        }
      ]
    },
    {
      "cell_type": "markdown",
      "source": [
        "We see our early stopping function kicked in after 20 epochs, meaning that the val loss started tapering off once the val accuracy reached about .62."
      ],
      "metadata": {
        "id": "3YIhNJGa1ria"
      }
    },
    {
      "cell_type": "code",
      "source": [
        "# Evaluate the model on the test set\n",
        "test_loss, test_accuracy = custom_model.evaluate(X_test, test_labels)\n",
        "print(f'Test Accuracy: {test_accuracy}')"
      ],
      "metadata": {
        "colab": {
          "base_uri": "https://localhost:8080/"
        },
        "id": "dp0p0r6QgwnC",
        "outputId": "257bef89-f348-4d6f-cab5-5c06d7949df2"
      },
      "execution_count": 17,
      "outputs": [
        {
          "output_type": "stream",
          "name": "stdout",
          "text": [
            "313/313 [==============================] - 3s 9ms/step - loss: 1.1087 - accuracy: 0.6169\n",
            "Test Accuracy: 0.6169000267982483\n"
          ]
        }
      ]
    },
    {
      "cell_type": "markdown",
      "source": [
        "We see a little improvement on the test set from training for more epochs. The accuracy went from about .58 to about .61. The output of the training process suggests that overfitting had already started to happen since the accuracy on the training set was still improving while the validation accuracy and loss began to taper off."
      ],
      "metadata": {
        "id": "Ivc3u6AMgpR5"
      }
    },
    {
      "cell_type": "markdown",
      "source": [
        "So what other things can we try to get better accuracy from our custom model? Two ideas are to use data augmentation to make the training dataset bigger and more diverse, and to unfreeze the earlier layers during training with a low learning rate.\n",
        "What I did to try data augmentation didn't work and didn't get saved; it would either yield worse results or when I tried making the training dataset larger the runtime would crash because it ran out of RAM. I may try a different approach for data augmentation (maybe I did not do something right) but for now I want to try something else: unfreeze earlier layers and train model again with smaller learning rate.   "
      ],
      "metadata": {
        "id": "nh5EU_PbhQaY"
      }
    },
    {
      "cell_type": "markdown",
      "source": [
        "Thus I'll try fine tuning the already trained model by unfreezing the earlier layers."
      ],
      "metadata": {
        "id": "hQBL13-cpVAP"
      }
    },
    {
      "cell_type": "code",
      "source": [
        "# Unfreeze the layers in the base model\n",
        "for layer in custom_model.layers:\n",
        "    layer.trainable = True\n",
        "\n",
        "# Recompile the model\n",
        "custom_model.compile(optimizer=Adam(learning_rate=0.0001), loss='categorical_crossentropy', metrics=['accuracy'])\n",
        "\n",
        "# Continue training the model with unfrozen layers\n",
        "history = custom_model.fit(\n",
        "    train_images, train_labels,\n",
        "    epochs=10,\n",
        "    validation_data=(val_images, val_labels),\n",
        "    callbacks=[early_stopping],\n",
        ")"
      ],
      "metadata": {
        "id": "sOybuMCbtYvv",
        "outputId": "a23be414-0665-480e-ade1-ff78bd749930",
        "colab": {
          "base_uri": "https://localhost:8080/"
        }
      },
      "execution_count": 18,
      "outputs": [
        {
          "output_type": "stream",
          "name": "stdout",
          "text": [
            "Epoch 1/10\n",
            "1407/1407 [==============================] - 51s 31ms/step - loss: 0.8458 - accuracy: 0.7090 - val_loss: 0.6513 - val_accuracy: 0.7774\n",
            "Epoch 2/10\n",
            "1407/1407 [==============================] - 44s 31ms/step - loss: 0.4986 - accuracy: 0.8285 - val_loss: 0.4850 - val_accuracy: 0.8358\n",
            "Epoch 3/10\n",
            "1407/1407 [==============================] - 43s 31ms/step - loss: 0.3586 - accuracy: 0.8780 - val_loss: 0.5367 - val_accuracy: 0.8214\n",
            "Epoch 4/10\n",
            "1407/1407 [==============================] - 44s 31ms/step - loss: 0.2598 - accuracy: 0.9115 - val_loss: 0.4786 - val_accuracy: 0.8470\n",
            "Epoch 5/10\n",
            "1407/1407 [==============================] - 44s 31ms/step - loss: 0.1891 - accuracy: 0.9353 - val_loss: 0.5214 - val_accuracy: 0.8404\n",
            "Epoch 6/10\n",
            "1407/1407 [==============================] - 44s 31ms/step - loss: 0.1385 - accuracy: 0.9534 - val_loss: 0.5164 - val_accuracy: 0.8550\n",
            "Epoch 7/10\n",
            "1407/1407 [==============================] - 44s 31ms/step - loss: 0.1053 - accuracy: 0.9648 - val_loss: 0.5965 - val_accuracy: 0.8540\n"
          ]
        }
      ]
    },
    {
      "cell_type": "markdown",
      "source": [
        "Val accuracy is at 85% now, so we gained a lot from unfreezing all the layers of the model."
      ],
      "metadata": {
        "id": "T3vTHG2uwy90"
      }
    },
    {
      "cell_type": "code",
      "source": [
        "# Evaluate the model on the test set\n",
        "test_loss, test_accuracy = custom_model.evaluate(X_test, test_labels)\n",
        "print(f'Test Accuracy: {test_accuracy}')"
      ],
      "metadata": {
        "id": "o5BA7gdHGbac",
        "outputId": "dc2aa129-1e80-46a7-c70f-9af53a3299ec",
        "colab": {
          "base_uri": "https://localhost:8080/"
        }
      },
      "execution_count": 19,
      "outputs": [
        {
          "output_type": "stream",
          "name": "stdout",
          "text": [
            "313/313 [==============================] - 3s 8ms/step - loss: 0.4894 - accuracy: 0.8443\n",
            "Test Accuracy: 0.8442999720573425\n"
          ]
        }
      ]
    },
    {
      "cell_type": "markdown",
      "source": [
        "We see that the accuracy on the test set is now 84%, which is quite a great improvement from the 61% accuracy the model predicted with prior to training the earlier layers of the network."
      ],
      "metadata": {
        "id": "bNj_TRcgHGEq"
      }
    }
  ]
}